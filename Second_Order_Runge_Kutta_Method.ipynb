{
 "cells": [
  {
   "cell_type": "markdown",
   "metadata": {},
   "source": [
    "## Second Order Runge-Kutta Method"
   ]
  },
  {
   "cell_type": "markdown",
   "metadata": {},
   "source": [
    "The Second-Order Runge-Kutta expression for $ y(x + h) $ : $$ y(x + h) = y(x) + (A + B) \\cdot h \\cdot f(x , y) + B \\cdot P \\cdot h^2 \\cdot \\frac{\\partial f(x, y)}{\\partial x} + B \\cdot Q \\cdot h^2 \\cdot \\frac{\\partial f(x, y)}{\\partial y} \\cdot f(x, y) + \\cdots $$\n",
    "\n",
    "where $ A + B = 1 $ , $ B \\cdot P = 1/2 $ , and $ B \\cdot Q = 1/2 $ ."
   ]
  },
  {
   "cell_type": "markdown",
   "metadata": {},
   "source": [
    "**case 1** : Choose $ A = 1/2 $. This choice leads to $ B = 1/2 , P = 1, Q = 1 $. Then the equation can be written as $$ k_1 = f(x_i, y_i) \\\\ k_2 = f(x_{i+1}, y_{i+1}) \\\\ y_{i+1} = y_i + \\frac{h}{2} \\cdot (k_1 + k_2) $$ "
   ]
  },
  {
   "cell_type": "code",
   "execution_count": 1,
   "metadata": {},
   "outputs": [],
   "source": [
    "def RK2(f, y_init, x_range, h):\n",
    "    m = len(y_init)\n",
    "    n = int((x_range[-1] - x_range[0])/h)\n",
    "    \n",
    "    x = x_range[0]\n",
    "    y = y_init\n",
    "    \n",
    "    x_soln = np.empty(0)\n",
    "    x_soln = np.append(x_soln, x)\n",
    "\n",
    "    y_soln = np.empty(0)\n",
    "    y_soln = np.append(y_soln, y)\n",
    "\n",
    "    for i in range(n):\n",
    "        k_1 = f(x, y)\n",
    "\n",
    "        ypredictor = y + k1 * h\n",
    "\n",
    "        k_2 = f(x+h, ypredictor)\n",
    "\n",
    "        for j in range(m):\n",
    "            y[j] = y[j] + (h/2)*(k1[j] + k2[j])\n",
    "\n",
    "        x = x + h\n",
    "        x_soln = np.append(x_soln, x)\n",
    "\n",
    "        for r in range(len(y)):\n",
    "            y_soln = np.append(y_soln, y[r])  \n",
    "\n",
    "    return [x_soln, y_soln]\n"
   ]
  },
  {
   "cell_type": "code",
   "execution_count": null,
   "metadata": {},
   "outputs": [],
   "source": []
  }
 ],
 "metadata": {
  "kernelspec": {
   "display_name": "Python 3",
   "language": "python",
   "name": "python3"
  },
  "language_info": {
   "codemirror_mode": {
    "name": "ipython",
    "version": 3
   },
   "file_extension": ".py",
   "mimetype": "text/x-python",
   "name": "python",
   "nbconvert_exporter": "python",
   "pygments_lexer": "ipython3",
   "version": "3.8.5"
  }
 },
 "nbformat": 4,
 "nbformat_minor": 4
}
