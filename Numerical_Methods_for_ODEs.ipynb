{
 "cells": [
  {
   "cell_type": "markdown",
   "metadata": {},
   "source": [
    "# Numerical Methods for ODEs\n",
    "\n",
    "\n",
    "Differential equations are among the most important mathematical tools used in producing models in the physical sciences, biological sciences, and engineering. \n",
    "\n",
    "An Ordinary Differential Equation (ODE) is an equation that contains a function having one independent variable: $$ \\frac {dy}{dx} = f(x, y) $$\n",
    "The equation is coupled with an initial value/condition $$ y(x_0) = y_0, \\ x \\geq x_0 $$ (i.e., value of y at $ x = x_0 $ ).\n",
    "\n",
    "Such equation is called **Initial Value Problem (IVP)**. Our goal is approximate the solution of the problem. Here **f** is sufficiently well-behaved function that maps $ [x_0 , \\infty) \\times \\mathbb{R}^d $ to $ \\mathbb{R}^d $ and the initial condition $ y_0 \\in \\mathbb{R}^d $ is a given vector.( $ \\mathbb{R}^d $ denotes the *d*-dimentional real Euclidean space.)\n",
    "\n",
    "In this project, we consider numerical methods for solving ordinary differential equations."
   ]
  },
  {
   "cell_type": "code",
   "execution_count": null,
   "metadata": {},
   "outputs": [],
   "source": []
  }
 ],
 "metadata": {
  "kernelspec": {
   "display_name": "Python 3",
   "language": "python",
   "name": "python3"
  },
  "language_info": {
   "codemirror_mode": {
    "name": "ipython",
    "version": 3
   },
   "file_extension": ".py",
   "mimetype": "text/x-python",
   "name": "python",
   "nbconvert_exporter": "python",
   "pygments_lexer": "ipython3",
   "version": "3.8.5"
  }
 },
 "nbformat": 4,
 "nbformat_minor": 4
}
